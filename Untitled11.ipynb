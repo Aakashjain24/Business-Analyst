{
  "nbformat": 4,
  "nbformat_minor": 0,
  "metadata": {
    "colab": {
      "name": "Untitled11.ipynb",
      "provenance": [],
      "collapsed_sections": []
    },
    "kernelspec": {
      "name": "python3",
      "display_name": "Python 3"
    },
    "language_info": {
      "name": "python"
    }
  },
  "cells": [
    {
      "cell_type": "code",
      "execution_count": null,
      "metadata": {
        "colab": {
          "base_uri": "https://localhost:8080/"
        },
        "id": "xJefvTYeGvDQ",
        "outputId": "e78141bc-13f7-47ef-8f52-158a6f85ede5"
      },
      "outputs": [
        {
          "output_type": "execute_result",
          "data": {
            "text/plain": [
              "(array(['Female', 'Male', 'Male', 'Male', 'Male', 'Female', 'Male',\n",
              "        'Female', 'Male', 'Female', 'Male', 'Male', 'Female', 'Male',\n",
              "        'Male', 'Female', 'Male', 'Male', 'Female', 'Male', 'Female',\n",
              "        'Female', 'Male', 'Female', 'Male', 'Male', 'Female', 'Female',\n",
              "        'Male', 'Female', 'Female', 'Male', 'Female', 'Male', 'Male',\n",
              "        'Female', 'Female', 'Female', 'Male', 'Female', 'Male', 'Female',\n",
              "        'Male', 'Male', 'Male', 'Male', 'Female', 'Female', 'Male', 'Male',\n",
              "        'Female', 'Male', 'Male', 'Male', 'Female', 'Female', 'Female',\n",
              "        'Female', 'Male', 'Female', 'Female', 'Female', 'Female', 'Female',\n",
              "        'Male', 'Male', 'Male', 'Male', 'Male', 'Female', 'Male', 'Female',\n",
              "        'Female', 'Female', 'Female', 'Female', 'Male', 'Male', 'Female',\n",
              "        'Male', 'Female', 'Male', 'Male', 'Male', 'Female', 'Female',\n",
              "        'Male', 'Male', 'Male', 'Male', 'Female', 'Male', 'Male', 'Male',\n",
              "        'Male', 'Male', 'Male', 'Female', 'Female', 'Male', 'Male',\n",
              "        'Female', 'Male', 'Female', 'Male', 'Male', 'Female', 'Male',\n",
              "        'Male', 'Female', 'Female', 'Male', 'Male', 'Male', 'Female',\n",
              "        'Female', 'Female', 'Female', 'Female', 'Female', 'Female', 'Male',\n",
              "        'Female', 'Male', 'Female'], dtype=object),\n",
              " array(['Male', 'Female', 'Female', 'Male', 'Male', 'Female', 'Female',\n",
              "        'Male', 'Female', 'Female', 'Female', 'Female', 'Female', 'Female',\n",
              "        'Female', 'Female', 'Female', 'Female', 'Female', 'Female',\n",
              "        'Female', 'Female', 'Female', 'Female', 'Female', 'Female', 'Male',\n",
              "        'Female', 'Female', 'Female', 'Female', 'Female', 'Male', 'Female',\n",
              "        'Female', 'Female', 'Male', 'Female', 'Female', 'Female', 'Female',\n",
              "        'Female', 'Female', 'Female', 'Female', 'Female', 'Female',\n",
              "        'Female', 'Female', 'Male', 'Female', 'Female', 'Female', 'Female',\n",
              "        'Male', 'Female', 'Female', 'Female', 'Female', 'Female', 'Female',\n",
              "        'Female', 'Female', 'Female', 'Female', 'Female', 'Female',\n",
              "        'Female', 'Female', 'Female', 'Female', 'Male', 'Female', 'Female',\n",
              "        'Female', 'Male', 'Female', 'Female', 'Male', 'Male', 'Female',\n",
              "        'Female', 'Female', 'Female', 'Male', 'Female', 'Male', 'Male',\n",
              "        'Female', 'Female', 'Female', 'Female', 'Female', 'Female',\n",
              "        'Female', 'Female', 'Female', 'Female', 'Female', 'Female', 'Male',\n",
              "        'Male', 'Female', 'Female', 'Female', 'Male', 'Female', 'Female',\n",
              "        'Female', 'Female', 'Female', 'Female', 'Female', 'Female', 'Male',\n",
              "        'Female', 'Male', 'Female', 'Female', 'Female', 'Female', 'Male',\n",
              "        'Male', 'Female', 'Male'], dtype=object))"
            ]
          },
          "metadata": {},
          "execution_count": 10
        }
      ],
      "source": [
        "##Logistic Regression\n",
        "\n",
        "import pandas as pd\n",
        "import numpy as np\n",
        "from sklearn import metrics \n",
        "from sklearn.linear_model import LogisticRegression\n",
        "from sklearn.model_selection import train_test_split\n",
        "\n",
        "\n",
        "df = pd.read_csv(\"/content/500_Person_Gender_Height_Weight_Index.csv\")\n",
        "df.head()\n",
        "\n",
        "X=df.iloc[:,:-1].values\n",
        "Y=df.iloc[:,-1].values\n",
        "\n",
        "Y\n",
        "\n",
        "x_train, x_test, y_train, y_test = train_test_split(X, Y, random_state=0,test_size = 0.25)\n",
        "clf = LogisticRegression()\n",
        "clf.fit(x_train,y_train)\n",
        "\n",
        "pred=clf.predict(x_test)\n",
        "y_test, pred"
      ]
    },
    {
      "cell_type": "code",
      "source": [],
      "metadata": {
        "id": "tM6CTbpJHQHs"
      },
      "execution_count": null,
      "outputs": []
    }
  ]
}